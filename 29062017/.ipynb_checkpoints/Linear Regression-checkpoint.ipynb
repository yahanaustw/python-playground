{
 "cells": [
  {
   "cell_type": "code",
   "execution_count": null,
   "metadata": {
    "collapsed": true
   },
   "outputs": [],
   "source": [
    "import matplotlib.pyplot as plt\n",
    "import numpy as np"
   ]
  },
  {
   "cell_type": "code",
   "execution_count": null,
   "metadata": {
    "collapsed": true
   },
   "outputs": [],
   "source": [
    "dataset = [[1,1],\n",
    "           [2,3],\n",
    "           [4,3],\n",
    "           [3,2],\n",
    "           [5,5]]\n",
    "x=[]\n",
    "y=[]\n",
    "for i in range(5):\n",
    "    x.append(dataset[i][0])\n",
    "    y.append(dataset[i][1])"
   ]
  },
  {
   "cell_type": "code",
   "execution_count": 39,
   "metadata": {
    "collapsed": true
   },
   "outputs": [],
   "source": [
    "def mean(value):\n",
    "    sum = 0\n",
    "    count = 0\n",
    "    for i in value:\n",
    "        sum += i\n",
    "        count += 1\n",
    "    return sum / count\n",
    "\n",
    "def var(value):\n",
    "    sum2 = 0\n",
    "    m=mean(value)\n",
    "    for i in value:\n",
    "        sum2 += (i-m)**2\n",
    "    return sum2\n",
    "\n",
    "def covar(x,y):\n",
    "    sum3 = 0\n",
    "    mx = mean(x)\n",
    "    my = mean(y)\n",
    "    for i in range(5):\n",
    "        sum3 += (x[i]-mx)*(y[i]-my)\n",
    "    return sum3"
   ]
  },
  {
   "cell_type": "code",
   "execution_count": 40,
   "metadata": {
    "collapsed": true
   },
   "outputs": [],
   "source": [
    "B1 = covar(x,y) / var(x)\n",
    "B0 = mean(y) - B1*mean(x)"
   ]
  },
  {
   "cell_type": "code",
   "execution_count": 41,
   "metadata": {},
   "outputs": [
    {
     "name": "stdout",
     "output_type": "stream",
     "text": [
      "mean(x) =  3.0\n",
      "variance(x) =  10.0\n",
      "covariance(x,y) =  8.0\n",
      "B1 =  0.8\n",
      "B0 =  0.39999999999999947\n"
     ]
    },
    {
     "data": {
      "image/png": "[encoded data removed]",
      "text/plain": [
       "<matplotlib.figure.Figure at 0x7f7cf1f59fd0>"
      ]
     },
     "metadata": {},
     "output_type": "display_data"
    }
   ],
   "source": [
    "print (\"mean(x) = \", mean(x))\n",
    "print (\"variance(x) = \", var(x))\n",
    "print (\"covariance(x,y) = \", covar(x,y))\n",
    "print (\"B1 = \", B1)\n",
    "print (\"B0 = \", B0)\n",
    "\n",
    "plt.scatter(x,y)\n",
    "\n",
    "\n",
    "a = np.arange(0,10)\n",
    "b = B0 + B1*a\n",
    "\n",
    "plt.plot(a, b)\n",
    "plt.plot(a,b,\"o\")\n",
    "plt.show()\n",
    "\n"
   ]
  },
  {
   "cell_type": "code",
   "execution_count": null,
   "metadata": {
    "collapsed": true
   },
   "outputs": [],
   "source": []
  }
 ],
 "metadata": {
  "kernelspec": {
   "display_name": "Python 3",
   "language": "python",
   "name": "python3"
  },
  "language_info": {
   "codemirror_mode": {
    "name": "ipython",
    "version": 3
   },
   "file_extension": ".py",
   "mimetype": "text/x-python",
   "name": "python",
   "nbconvert_exporter": "python",
   "pygments_lexer": "ipython3",
   "version": "3.5.2"
  }
 },
 "nbformat": 4,
 "nbformat_minor": 2
}
